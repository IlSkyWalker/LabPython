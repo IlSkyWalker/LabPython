{
 "cells": [
  {
   "cell_type": "code",
   "execution_count": 5,
   "metadata": {},
   "outputs": [
    {
     "name": "stdout",
     "output_type": "stream",
     "text": [
      "Scipy\n",
      "     con: array([], dtype=float64)\n",
      "     fun: -491.9999997412476\n",
      " message: 'Optimization terminated successfully.'\n",
      "     nit: 5\n",
      "   slack: array([6.29652845e-08, 1.12000000e+02, 1.26921748e-07])\n",
      "  status: 0\n",
      " success: True\n",
      "       x: array([23.99999999, 17.99999999])\n",
      "Time :\n",
      "0.011967658996582031\n",
      "\n",
      "Pulp\n",
      "Result: \n",
      "x1 = 24.0\n",
      "x2 = 18.0\n",
      "Income: \n",
      "492.0\n",
      "Time :\n",
      "0.2037503719329834\n",
      "Разница времени\n",
      "-0.19178271293640137\n"
     ]
    },
    {
     "data": {
      "text/plain": [
       "True"
      ]
     },
     "execution_count": 5,
     "metadata": {},
     "output_type": "execute_result"
    }
   ],
   "source": [
    "from scipy.optimize import linprog\n",
    "from pulp import *\n",
    "import time\n",
    "import numpy as np\n",
    "print(\"Scipy\")\n",
    "start = time.time()\n",
    "c =[-10,-14]\n",
    "A =[[2,4],[1,8],[7,4]]\n",
    "b =[120,280,240]\n",
    "x0_bounds = (0,None)\n",
    "x1_bounds = (0,None)\n",
    "res = linprog(c,A_ub =A, b_ub=b, bounds=[x0_bounds, x1_bounds])\n",
    "print(res)\n",
    "stop = time.time()\n",
    "print(\"Time :\")\n",
    "print(stop - start)\n",
    "print(\"\\nPulp\")\n",
    "start1 = time.time()\n",
    "x1 = pulp.LpVariable(\"x1\", lowBound =0)\n",
    "x2 = pulp.LpVariable(\"x2\", lowBound =0)\n",
    "problem = pulp.LpProblem('0',LpMaximize)\n",
    "problem += 10*x1+ 14*x2, \"Objective function\"\n",
    "problem += 2*x1 +4*x2 <= 120,\"1-st constrain\"\n",
    "problem += x1 + 8*x2 <= 280, \"2-d constrain \"\n",
    "problem +=7*x1 +4*x2 <= 240, \"3-d constrain\"\n",
    "problem.solve()\n",
    "print(\"Result: \")\n",
    "answer = []\n",
    "for variable in problem.variables():\n",
    "    print(variable.name, \"=\", variable.varValue)\n",
    "    answer.append(variable.varValue)\n",
    "#print(answer)\n",
    "print(\"Income: \")\n",
    "print(value(problem.objective))\n",
    "stop1 = time.time()\n",
    "print(\"Time :\")\n",
    "print(stop1 - start1)\n",
    "print(\"Разница времени\")\n",
    "print((stop - start)-(stop1 - start1))\n",
    "np.allclose(res.x,answer)"
   ]
  },
  {
   "cell_type": "code",
   "execution_count": 124,
   "metadata": {},
   "outputs": [
    {
     "name": "stdout",
     "output_type": "stream",
     "text": [
      "     con: array([3.55014436e-08, 2.71482605e-08, 2.71481042e-08, 2.29713706e-08,\n",
      "       1.92125356e-08])\n",
      "     fun: 1509.9999995902572\n",
      " message: 'Optimization terminated successfully.'\n",
      "     nit: 7\n",
      "   slack: array([5.50733290e-08, 4.00000000e+01, 4.71514454e-08, 8.00000000e+01,\n",
      "       2.70000000e+02])\n",
      "  status: 0\n",
      " success: True\n",
      "       x: array([4.00000000e+01, 8.67017048e-10, 3.20992522e-09, 4.50000000e+01,\n",
      "       2.07697651e-09, 7.00000000e+01, 6.99013424e-09, 1.59027773e-08,\n",
      "       5.00000000e+01, 1.13454863e-09, 1.36451333e-09, 1.50000000e+01,\n",
      "       4.53416762e-09, 1.20348039e-08, 2.24797478e-09, 2.31247252e-08,\n",
      "       2.56526596e-09, 6.07439455e-09, 7.00000000e+01, 2.12404055e-09])\n"
     ]
    }
   ],
   "source": [
    "from scipy.optimize import linprog\n",
    "import time\n",
    "start = time.time()\n",
    "b_ub = [85,110,65,80,340] \n",
    "b_eq = [90,70,70,60,50]  \n",
    "A=np.array([[5, 17,7,10],[9,4,5,11],[3,14,12,10],[6,5,9,11],[8,6,4,16]])\n",
    "m, n = A.shape\n",
    "c=list(np.reshape(A,n*m))# Преобразование матрицы A в список c.\n",
    "A_ub= np.zeros([m,m*n])\n",
    "for i in np.arange(0,m,1):# Заполнение матрицы условий –неравенств.\n",
    "    for j in np.arange(0,n*m,1):\n",
    "        if i*n<=j<=n+i*n-1:\n",
    "            A_ub  [i,j]=1\n",
    "A_eq= np.zeros([m,m*n])\n",
    "for i in np.arange(0,m,1):# Заполнение матрицы условий –равенств.\n",
    "    k=0\n",
    "    for j in np.arange(0,n*m,1):\n",
    "        if j==k*n+i:\n",
    "            A_eq [i,j]=1\n",
    "            k=k+1\n",
    "print(linprog(c, A_ub, b_ub, A_eq, b_eq))"
   ]
  },
  {
   "cell_type": "code",
   "execution_count": 3,
   "metadata": {},
   "outputs": [
    {
     "data": {
      "image/png": "[encoded data removed]",
      "text/plain": [
       "<Figure size 432x288 with 1 Axes>"
      ]
     },
     "metadata": {
      "needs_background": "light"
     },
     "output_type": "display_data"
    }
   ],
   "source": [
    "import numpy as np\n",
    "import matplotlib.pyplot as plt\n",
    "from scipy.optimize import linprog\n",
    "from pulp import *\n",
    "import time\n",
    "\n",
    "c = [-10, -14]\n",
    "A = [[2, 4], [1, 8], [7, 4]]\n",
    "b = [120, 280, 240]\n",
    "\n",
    "x0_bounds = (0, None)\n",
    "x1_bounds = (0, None)\n",
    "startTime = time.time()\n",
    "res = linprog(c, A_ub=A, b_ub=b, bounds=[x0_bounds, x1_bounds])\n",
    "stopTime = time.time()\n",
    "\n",
    "def f(b, a1, a2, x):\n",
    "    y = np.array([])\n",
    "    for xIter in x:\n",
    "        yIter = (b-a1*xIter)/a2\n",
    "        y = np.append(y, yIter)\n",
    "    return y\n",
    "\n",
    "x = np.arange(0, 50, 0.2)\n",
    "for i in range(len(A)):\n",
    "    y = f(b=b[i], a1=A[i][0], x=x, a2=A[i][1])\n",
    "    plt.plot(x, y)\n",
    "    plt.fill_between(x, y, alpha=0.2)\n",
    "    plt.text(0.5, f(b=b[i], a1=A[i][0], x=[i+1,], a2=A[i][1])-2*i+1, \n",
    "             '{a1}*x1+ {a2}*x2 <= {b}'.format(a1=A[i][0], a2=A[i][1], b=b[i]), \n",
    "             rotation=-7%360)\n",
    "plt.plot(x, (c[0]*c[1]-np.abs(c[0])*x)/np.abs(c[1]), '--')\n",
    "plt.plot(res.x[0], res.x[1], 'ro')\n",
    "plt.annotate('Level curve', \n",
    "             xy=(2, (c[0]*c[1]-np.abs(c[0])*2)/np.abs(c[1])), \n",
    "             xytext=(3, (c[0]*c[1]-np.abs(c[0])*3)/np.abs(c[1])+5), \n",
    "             size='x-large', arrowprops=dict(facecolor='orange', arrowstyle='fancy'))\n",
    "plt.xlabel('x1')\n",
    "plt.ylabel('x2')\n",
    "plt.show()"
   ]
  },
  {
   "cell_type": "code",
   "execution_count": null,
   "metadata": {},
   "outputs": [],
   "source": []
  }
 ],
 "metadata": {
  "kernelspec": {
   "display_name": "Python 3",
   "language": "python",
   "name": "python3"
  },
  "language_info": {
   "codemirror_mode": {
    "name": "ipython",
    "version": 3
   },
   "file_extension": ".py",
   "mimetype": "text/x-python",
   "name": "python",
   "nbconvert_exporter": "python",
   "pygments_lexer": "ipython3",
   "version": "3.8.5"
  }
 },
 "nbformat": 4,
 "nbformat_minor": 4
}
